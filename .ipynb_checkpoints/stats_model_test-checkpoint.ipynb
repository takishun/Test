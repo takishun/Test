{
 "cells": [
  {
   "cell_type": "code",
   "execution_count": 9,
   "id": "ceef6d35-25df-4c6a-ad0c-89ded3c6bbc9",
   "metadata": {},
   "outputs": [],
   "source": [
    "import numpy as np\n",
    "\n",
    "import statsmodels.api as sm\n"
   ]
  },
  {
   "cell_type": "code",
   "execution_count": 10,
   "id": "0f370a7d-b325-4f17-aedc-b50b92d9fe71",
   "metadata": {},
   "outputs": [
    {
     "name": "stdout",
     "output_type": "stream",
     "text": [
      "   const  GNPDEFL       GNP   UNEMP   ARMED       POP    YEAR\n",
      "0    1.0     83.0  234289.0  2356.0  1590.0  107608.0  1947.0\n",
      "1    1.0     88.5  259426.0  2325.0  1456.0  108632.0  1948.0\n",
      "2    1.0     88.2  258054.0  3682.0  1616.0  109773.0  1949.0\n",
      "3    1.0     89.5  284599.0  3351.0  1650.0  110929.0  1950.0\n",
      "4    1.0     96.2  328975.0  2099.0  3099.0  112075.0  1951.0\n"
     ]
    }
   ],
   "source": [
    "data = sm.datasets.longley.load()\n",
    "data.exog = sm.add_constant(data.exog)\n",
    "print(data.exog.head())\n"
   ]
  },
  {
   "cell_type": "code",
   "execution_count": 11,
   "id": "eebb02ec-47b0-45fb-bbb8-f5fd020e9da9",
   "metadata": {},
   "outputs": [],
   "source": [
    "ols_resid = sm.OLS(data.endog, data.exog).fit().resid\n"
   ]
  },
  {
   "cell_type": "code",
   "execution_count": 12,
   "id": "9fa4a6bd-069e-4f6c-aa20-fe258c599af5",
   "metadata": {},
   "outputs": [
    {
     "name": "stdout",
     "output_type": "stream",
     "text": [
      "-1.4390229839865958\n",
      "0.17378444788452777\n"
     ]
    }
   ],
   "source": [
    "resid_fit = sm.OLS(\n",
    "    np.asarray(ols_resid)[1:], sm.add_constant(np.asarray(ols_resid)[:-1])\n",
    ").fit()\n",
    "print(resid_fit.tvalues[1])\n",
    "print(resid_fit.pvalues[1])\n"
   ]
  },
  {
   "cell_type": "code",
   "execution_count": 13,
   "id": "c2486072-7320-4a7f-aba2-6dcdc6d22873",
   "metadata": {},
   "outputs": [],
   "source": [
    "rho = resid_fit.params[1]\n"
   ]
  },
  {
   "cell_type": "code",
   "execution_count": 14,
   "id": "c855b410-0a7f-4b0d-a011-c8436c6048d5",
   "metadata": {},
   "outputs": [
    {
     "data": {
      "text/plain": [
       "array([[0, 1, 2, 3, 4],\n",
       "       [1, 0, 1, 2, 3],\n",
       "       [2, 1, 0, 1, 2],\n",
       "       [3, 2, 1, 0, 1],\n",
       "       [4, 3, 2, 1, 0]])"
      ]
     },
     "execution_count": 14,
     "metadata": {},
     "output_type": "execute_result"
    }
   ],
   "source": [
    "from scipy.linalg import toeplitz\n",
    "\n",
    "toeplitz(range(5))\n"
   ]
  },
  {
   "cell_type": "code",
   "execution_count": 15,
   "id": "be0dbdab-989e-4373-bb42-d0844920b30f",
   "metadata": {},
   "outputs": [],
   "source": [
    "order = toeplitz(range(len(ols_resid)))\n"
   ]
  },
  {
   "cell_type": "code",
   "execution_count": 16,
   "id": "2f6c7b95-de86-488a-bcff-87bc2ac5a05e",
   "metadata": {},
   "outputs": [],
   "source": [
    "sigma = rho ** order\n",
    "gls_model = sm.GLS(data.endog, data.exog, sigma=sigma)\n",
    "gls_results = gls_model.fit()\n"
   ]
  },
  {
   "cell_type": "code",
   "execution_count": 17,
   "id": "b15815c4-96aa-453f-a0fa-54edb84f594d",
   "metadata": {},
   "outputs": [
    {
     "name": "stdout",
     "output_type": "stream",
     "text": [
      "                           GLSAR Regression Results                           \n",
      "==============================================================================\n",
      "Dep. Variable:                 TOTEMP   R-squared:                       0.996\n",
      "Model:                          GLSAR   Adj. R-squared:                  0.992\n",
      "Method:                 Least Squares   F-statistic:                     295.2\n",
      "Date:                Wed, 31 Jan 2024   Prob (F-statistic):           6.09e-09\n",
      "Time:                        12:30:14   Log-Likelihood:                -102.04\n",
      "No. Observations:                  15   AIC:                             218.1\n",
      "Df Residuals:                       8   BIC:                             223.0\n",
      "Df Model:                           6                                         \n",
      "Covariance Type:            nonrobust                                         \n",
      "==============================================================================\n",
      "                 coef    std err          t      P>|t|      [0.025      0.975]\n",
      "------------------------------------------------------------------------------\n",
      "const      -3.468e+06   8.72e+05     -3.979      0.004   -5.48e+06   -1.46e+06\n",
      "GNPDEFL       34.5568     84.734      0.408      0.694    -160.840     229.953\n",
      "GNP           -0.0343      0.033     -1.047      0.326      -0.110       0.041\n",
      "UNEMP         -1.9621      0.481     -4.083      0.004      -3.070      -0.854\n",
      "ARMED         -1.0020      0.211     -4.740      0.001      -1.489      -0.515\n",
      "POP           -0.0978      0.225     -0.435      0.675      -0.616       0.421\n",
      "YEAR        1823.1829    445.829      4.089      0.003     795.100    2851.266\n",
      "==============================================================================\n",
      "Omnibus:                        1.960   Durbin-Watson:                   2.554\n",
      "Prob(Omnibus):                  0.375   Jarque-Bera (JB):                1.423\n",
      "Skew:                           0.713   Prob(JB):                        0.491\n",
      "Kurtosis:                       2.508   Cond. No.                     4.80e+09\n",
      "==============================================================================\n",
      "\n",
      "Notes:\n",
      "[1] Standard Errors assume that the covariance matrix of the errors is correctly specified.\n",
      "[2] The condition number is large, 4.8e+09. This might indicate that there are\n",
      "strong multicollinearity or other numerical problems.\n"
     ]
    },
    {
     "name": "stderr",
     "output_type": "stream",
     "text": [
      "/opt/anaconda3/envs/prtenv/lib/python3.9/site-packages/scipy/stats/_stats_py.py:1971: UserWarning: kurtosistest only valid for n>=20 ... continuing anyway, n=15\n",
      "  k, _ = kurtosistest(a, axis)\n"
     ]
    }
   ],
   "source": [
    "glsar_model = sm.GLSAR(data.endog, data.exog, 1)\n",
    "glsar_results = glsar_model.iterative_fit(1)\n",
    "print(glsar_results.summary())\n"
   ]
  },
  {
   "cell_type": "code",
   "execution_count": 18,
   "id": "6fd84258-8fb3-44c2-8d65-d9c0c7d9e83e",
   "metadata": {},
   "outputs": [
    {
     "name": "stdout",
     "output_type": "stream",
     "text": [
      "const     -3.797855e+06\n",
      "GNPDEFL   -1.276565e+01\n",
      "GNP       -3.800132e-02\n",
      "UNEMP     -2.186949e+00\n",
      "ARMED     -1.151776e+00\n",
      "POP       -6.805356e-02\n",
      "YEAR       1.993953e+03\n",
      "dtype: float64\n",
      "const     -3.467961e+06\n",
      "GNPDEFL    3.455678e+01\n",
      "GNP       -3.434101e-02\n",
      "UNEMP     -1.962144e+00\n",
      "ARMED     -1.001973e+00\n",
      "POP       -9.780460e-02\n",
      "YEAR       1.823183e+03\n",
      "dtype: float64\n",
      "const      670688.699307\n",
      "GNPDEFL        69.430807\n",
      "GNP             0.026248\n",
      "UNEMP           0.382393\n",
      "ARMED           0.165253\n",
      "POP             0.176428\n",
      "YEAR          342.634628\n",
      "dtype: float64\n",
      "const      871584.051696\n",
      "GNPDEFL        84.733715\n",
      "GNP             0.032803\n",
      "UNEMP           0.480545\n",
      "ARMED           0.211384\n",
      "POP             0.224774\n",
      "YEAR          445.828748\n",
      "dtype: float64\n"
     ]
    }
   ],
   "source": [
    "print(gls_results.params)\n",
    "print(glsar_results.params)\n",
    "print(gls_results.bse)\n",
    "print(glsar_results.bse)\n"
   ]
  },
  {
   "cell_type": "code",
   "execution_count": null,
   "id": "587f2e74-2f44-4e44-9484-1d8295280020",
   "metadata": {},
   "outputs": [],
   "source": []
  }
 ],
 "metadata": {
  "kernelspec": {
   "display_name": "Python 3 (ipykernel)",
   "language": "python",
   "name": "python3"
  },
  "language_info": {
   "codemirror_mode": {
    "name": "ipython",
    "version": 3
   },
   "file_extension": ".py",
   "mimetype": "text/x-python",
   "name": "python",
   "nbconvert_exporter": "python",
   "pygments_lexer": "ipython3",
   "version": "3.9.6"
  }
 },
 "nbformat": 4,
 "nbformat_minor": 5
}
